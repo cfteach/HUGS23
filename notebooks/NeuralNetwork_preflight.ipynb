{
  "cells": [
    {
      "cell_type": "markdown",
      "source": [
        "# (Tut 0) ML/DL Pre-flight "
      ],
      "metadata": {
        "id": "wD5JbaTerO8P"
      },
      "id": "wD5JbaTerO8P"
    },
    {
      "cell_type": "code",
      "execution_count": 1,
      "id": "6d0cb303-c81d-4f6d-8287-2fd102ac0e23",
      "metadata": {
        "tags": [],
        "colab": {
          "base_uri": "https://localhost:8080/"
        },
        "id": "6d0cb303-c81d-4f6d-8287-2fd102ac0e23",
        "outputId": "a4038f9a-4c15-4d4c-cdee-e1541b97dd1d"
      },
      "outputs": [
        {
          "output_type": "execute_result",
          "data": {
            "text/plain": [
              "['              total        used        free      shared  buff/cache   available',\n",
              " 'Mem:          12982         617        9801           1        2563       12085',\n",
              " 'Swap:             0           0           0']"
            ]
          },
          "metadata": {},
          "execution_count": 1
        }
      ],
      "source": [
        "%system top -b -n 1 | grep Cpu\n",
        "%system free -m"
      ]
    },
    {
      "cell_type": "code",
      "execution_count": 2,
      "id": "40ccb77e-834d-4246-ac34-96516e04cf33",
      "metadata": {
        "tags": [],
        "id": "40ccb77e-834d-4246-ac34-96516e04cf33"
      },
      "outputs": [],
      "source": [
        "import numpy as np"
      ]
    },
    {
      "cell_type": "code",
      "execution_count": 3,
      "id": "d81af008-1636-47c2-84c1-b5b8d103717a",
      "metadata": {
        "tags": [],
        "id": "d81af008-1636-47c2-84c1-b5b8d103717a"
      },
      "outputs": [],
      "source": [
        "import matplotlib.pyplot as plt"
      ]
    },
    {
      "cell_type": "markdown",
      "id": "e1cd9cd0-83e5-4adb-9e6e-bb84652aa7e9",
      "metadata": {
        "id": "e1cd9cd0-83e5-4adb-9e6e-bb84652aa7e9"
      },
      "source": [
        "## Load your data"
      ]
    },
    {
      "cell_type": "code",
      "execution_count": 4,
      "id": "cd1451a6-f9d6-4df5-88e8-ca88ee3d6e3f",
      "metadata": {
        "tags": [],
        "id": "cd1451a6-f9d6-4df5-88e8-ca88ee3d6e3f"
      },
      "outputs": [],
      "source": [
        "from sklearn.metrics import log_loss"
      ]
    },
    {
      "cell_type": "code",
      "execution_count": 5,
      "id": "5e450ee7-377b-4254-b04e-f0da4f0a25bb",
      "metadata": {
        "tags": [],
        "id": "5e450ee7-377b-4254-b04e-f0da4f0a25bb"
      },
      "outputs": [],
      "source": [
        "import warnings\n",
        "import matplotlib.pyplot as plt\n",
        "from sklearn.datasets import fetch_openml\n",
        "from sklearn.exceptions import ConvergenceWarning\n",
        "from sklearn.neural_network import MLPClassifier\n",
        "from sklearn.model_selection import train_test_split\n",
        "\n",
        "# Load data from https://www.openml.org/d/554\n",
        "X, y = fetch_openml(\n",
        "    \"mnist_784\", version=1, return_X_y=True, as_frame=False, parser=\"pandas\"\n",
        ")\n",
        "X = X / 255.0\n"
      ]
    },
    {
      "cell_type": "code",
      "execution_count": 6,
      "id": "2afd234b-2b6e-4098-aa34-28a879135766",
      "metadata": {
        "tags": [],
        "id": "2afd234b-2b6e-4098-aa34-28a879135766",
        "outputId": "d6756d96-e7c3-4d21-a8a5-401a25863527",
        "colab": {
          "base_uri": "https://localhost:8080/"
        }
      },
      "outputs": [
        {
          "output_type": "execute_result",
          "data": {
            "text/plain": [
              "(70000, 784)"
            ]
          },
          "metadata": {},
          "execution_count": 6
        }
      ],
      "source": [
        "np.shape(X)\n",
        "\n",
        "#np.unique(y)"
      ]
    },
    {
      "cell_type": "code",
      "source": [
        "import sys\n",
        "\n",
        "print(\"Size of X: {} MB\".format(sys.getsizeof(X)/(10**6)))\n",
        "print(\"Size of y: {} MB\".format(sys.getsizeof(y)/(10**6)))"
      ],
      "metadata": {
        "colab": {
          "base_uri": "https://localhost:8080/"
        },
        "id": "evjehBYPm_GP",
        "outputId": "06031887-09a2-444e-d117-91e4246df2b0"
      },
      "id": "evjehBYPm_GP",
      "execution_count": 7,
      "outputs": [
        {
          "output_type": "stream",
          "name": "stdout",
          "text": [
            "Size of X: 439.040128 MB\n",
            "Size of y: 0.560112 MB\n"
          ]
        }
      ]
    },
    {
      "cell_type": "code",
      "execution_count": 8,
      "id": "e5dc03d0-6313-4523-a35c-3c334195791a",
      "metadata": {
        "tags": [],
        "id": "e5dc03d0-6313-4523-a35c-3c334195791a"
      },
      "outputs": [],
      "source": [
        "def plot_rand_digit(X,y):\n",
        "    tmp_indx = np.random.randint(len(X))\n",
        "    image_data = np.reshape(X[tmp_indx],(28, 28))\n",
        "    plt.imshow(image_data, cmap='gray')\n",
        "    plt.colorbar()\n",
        "    plt.show()\n",
        "    print(\"extracted index: \", tmp_indx)\n",
        "    print(\"label is: \",y[tmp_indx])\n",
        "    return image_data,X[tmp_indx]\n",
        "\n",
        "def plot_digit(tmp_indx, X,y):\n",
        "    image_data = np.reshape(X[tmp_indx],(28, 28))\n",
        "    plt.imshow(image_data, cmap='gray')\n",
        "    plt.colorbar()\n",
        "    plt.show()\n",
        "    print(\"label is: \",y[tmp_indx])\n",
        "    return image_data,X[tmp_indx]\n",
        "\n",
        "def plot_image(image_data):\n",
        "    plt.imshow(image_data, cmap='gray')\n",
        "    plt.colorbar()\n",
        "    plt.show()\n",
        "\n",
        "def image_2_X(tmp_image):\n",
        "    return tmp_image.reshape(28*28,)"
      ]
    },
    {
      "cell_type": "code",
      "execution_count": 51,
      "id": "d4dd44b2-e85b-4983-951e-844ed9b83213",
      "metadata": {
        "tags": [],
        "id": "d4dd44b2-e85b-4983-951e-844ed9b83213"
      },
      "outputs": [],
      "source": [
        "#uncomment\n",
        "#tmp_image, tmp_imX = plot_rand_digit(X,y)"
      ]
    },
    {
      "cell_type": "code",
      "execution_count": 10,
      "id": "57beda78-1b6d-4be8-8234-5bcf2509cc4b",
      "metadata": {
        "tags": [],
        "id": "57beda78-1b6d-4be8-8234-5bcf2509cc4b"
      },
      "outputs": [],
      "source": [
        "# Split data into train partition and test partition\n",
        "X_train, X_test, y_train, y_test = train_test_split(X, y, random_state=0, test_size=0.3)"
      ]
    },
    {
      "cell_type": "code",
      "execution_count": 11,
      "id": "0247c2c5-d502-473a-bb07-ce73e3e25b48",
      "metadata": {
        "id": "0247c2c5-d502-473a-bb07-ce73e3e25b48",
        "outputId": "0409e6f5-ed90-4588-96f4-84459c30ab1c",
        "colab": {
          "base_uri": "https://localhost:8080/"
        }
      },
      "outputs": [
        {
          "output_type": "stream",
          "name": "stdout",
          "text": [
            "Iteration 1, loss = 0.30763959\n",
            "Iteration 2, loss = 0.14463751\n",
            "Iteration 3, loss = 0.11186542\n",
            "Iteration 4, loss = 0.09615766\n"
          ]
        },
        {
          "output_type": "stream",
          "name": "stderr",
          "text": [
            "/usr/local/lib/python3.10/dist-packages/sklearn/neural_network/_multilayer_perceptron.py:686: ConvergenceWarning: Stochastic Optimizer: Maximum iterations (4) reached and the optimization hasn't converged yet.\n",
            "  warnings.warn(\n"
          ]
        },
        {
          "output_type": "stream",
          "name": "stdout",
          "text": [
            "Training set score: 0.975184\n",
            "Test set score: 0.961952\n"
          ]
        }
      ],
      "source": [
        "mlp = MLPClassifier(\n",
        "    hidden_layer_sizes=(40,),\n",
        "    max_iter=4,\n",
        "    alpha=1e-4,\n",
        "    solver=\"sgd\",\n",
        "    verbose=1,\n",
        "    random_state=1,\n",
        "    learning_rate_init=0.2,\n",
        ")\n",
        "\n",
        "#with warnings.catch_warnings():\n",
        "#    warnings.filterwarnings(\"ignore\", category=ConvergenceWarning, module=\"sklearn\")\n",
        "    \n",
        "mlp.fit(X_train, y_train)\n",
        "\n",
        "print(\"Training set score: %f\" % mlp.score(X_train, y_train))\n",
        "print(\"Test set score: %f\" % mlp.score(X_test, y_test))"
      ]
    },
    {
      "cell_type": "code",
      "source": [
        "# N.b.:\n",
        "print(np.shape(mlp.predict_proba(X[0].reshape(-1,1).T)))"
      ],
      "metadata": {
        "colab": {
          "base_uri": "https://localhost:8080/"
        },
        "id": "55WLVOxxLJ-F",
        "outputId": "4e770f0e-7453-4ba5-8fa3-16d98f9d3969"
      },
      "id": "55WLVOxxLJ-F",
      "execution_count": 14,
      "outputs": [
        {
          "output_type": "stream",
          "name": "stdout",
          "text": [
            "(1, 10)\n"
          ]
        }
      ]
    },
    {
      "cell_type": "markdown",
      "id": "1d4ec757-b0d0-4ffd-80b4-152b10650271",
      "metadata": {
        "id": "1d4ec757-b0d0-4ffd-80b4-152b10650271"
      },
      "source": [
        "## Plot the learning curve"
      ]
    },
    {
      "cell_type": "code",
      "execution_count": 13,
      "id": "9ec4c3c1-fe6e-42a1-a605-e31412ff6f5b",
      "metadata": {
        "tags": [],
        "id": "9ec4c3c1-fe6e-42a1-a605-e31412ff6f5b",
        "outputId": "df3a5937-1de9-400f-deb6-d57d3d1f46d1",
        "colab": {
          "base_uri": "https://localhost:8080/",
          "height": 472
        }
      },
      "outputs": [
        {
          "output_type": "display_data",
          "data": {
            "text/plain": [
              "<Figure size 640x480 with 1 Axes>"
            ],
            "image/png": "[encoded data removed]"
          },
          "metadata": {}
        }
      ],
      "source": [
        "# Plot the learning curve\n",
        "plt.plot(mlp.loss_curve_, label=\"Training Loss\")\n",
        "plt.xlabel(\"Epochs\")\n",
        "plt.ylabel(\"Loss\")\n",
        "plt.legend()\n",
        "plt.title(\"Learning Curve\")\n",
        "plt.show()"
      ]
    },
    {
      "cell_type": "code",
      "execution_count": 15,
      "id": "ff2370f5-f376-4009-bc72-aa1d23e3bc55",
      "metadata": {
        "tags": [],
        "id": "ff2370f5-f376-4009-bc72-aa1d23e3bc55",
        "outputId": "78335420-eefd-47ac-f491-18900b4e68c7",
        "colab": {
          "base_uri": "https://localhost:8080/"
        }
      },
      "outputs": [
        {
          "output_type": "stream",
          "name": "stdout",
          "text": [
            "Iteration 1, loss = 0.30763959\n",
            "Iteration 2, loss = 0.14127103\n",
            "Iteration 3, loss = 0.11035624\n",
            "Iteration 4, loss = 0.09344541\n",
            "Iteration 5, loss = 0.08102296\n",
            "Iteration 6, loss = 0.07178889\n",
            "Iteration 7, loss = 0.06375451\n",
            "Iteration 8, loss = 0.05863240\n",
            "Iteration 9, loss = 0.05515901\n",
            "Iteration 10, loss = 0.04981513\n",
            "Training set score: 0.981143\n",
            "Test set score: 0.964476\n"
          ]
        }
      ],
      "source": [
        "mlp = MLPClassifier(\n",
        "    hidden_layer_sizes=(40,),\n",
        "    max_iter=1,\n",
        "    alpha=1e-4,\n",
        "    solver=\"sgd\",\n",
        "    verbose=1,\n",
        "    random_state=1,\n",
        "    learning_rate_init=0.2,\n",
        "    warm_start=True,  # Keep the learned weights between partial_fit calls\n",
        "    batch_size=200\n",
        ")\n",
        "\n",
        "num_epochs = 10\n",
        "train_loss = []\n",
        "test_loss = []\n",
        "\n",
        "for epoch in range(num_epochs):\n",
        "    mlp.partial_fit(X_train, y_train, classes=np.unique(y))\n",
        "    train_loss.append(log_loss(y_train, mlp.predict_proba(X_train)))\n",
        "    test_loss.append(log_loss(y_test, mlp.predict_proba(X_test)))\n",
        "\n",
        "print(\"Training set score: %f\" % mlp.score(X_train, y_train))\n",
        "print(\"Test set score: %f\" % mlp.score(X_test, y_test))\n"
      ]
    },
    {
      "cell_type": "code",
      "execution_count": 16,
      "id": "38883b3d-4a70-49e1-9e52-2409db1524cc",
      "metadata": {
        "tags": [],
        "id": "38883b3d-4a70-49e1-9e52-2409db1524cc",
        "outputId": "bd9cc221-b7d5-4018-dc3c-bef802cb288f",
        "colab": {
          "base_uri": "https://localhost:8080/",
          "height": 564
        }
      },
      "outputs": [
        {
          "output_type": "display_data",
          "data": {
            "text/plain": [
              "<Figure size 800x600 with 1 Axes>"
            ],
            "image/png": "[encoded data removed]"
          },
          "metadata": {}
        }
      ],
      "source": [
        "plt.rcParams[\"figure.figsize\"] = (8,6)\n",
        "\n",
        "\n",
        "# Plot the learning curve\n",
        "plt.plot(train_loss, label=\"Training Loss\")\n",
        "plt.plot(test_loss, label=\"Test Loss\")\n",
        "plt.xlabel(\"Epochs\")\n",
        "plt.ylabel(\"Loss\")\n",
        "plt.ylim(0.,0.3)\n",
        "plt.legend()\n",
        "plt.title(\"Learning Curve\")\n",
        "plt.show()\n"
      ]
    },
    {
      "cell_type": "code",
      "execution_count": 17,
      "id": "eb939b30-cc20-48b4-868c-0b738f546650",
      "metadata": {
        "tags": [],
        "id": "eb939b30-cc20-48b4-868c-0b738f546650",
        "outputId": "5bdca5f8-efc3-4d20-b9a5-eb939e1b6b26",
        "colab": {
          "base_uri": "https://localhost:8080/"
        }
      },
      "outputs": [
        {
          "output_type": "stream",
          "name": "stdout",
          "text": [
            "Iteration 1, loss = 0.30763959\n",
            "Iteration 2, loss = 0.14127103\n",
            "Iteration 3, loss = 0.11035624\n",
            "Training set score: 0.974327\n",
            "Test set score: 0.963095\n"
          ]
        }
      ],
      "source": [
        "mlp = MLPClassifier(\n",
        "    hidden_layer_sizes=(40,),\n",
        "    max_iter=1,\n",
        "    alpha=1e-4,\n",
        "    solver=\"sgd\",\n",
        "    verbose=1,\n",
        "    random_state=1,\n",
        "    learning_rate_init=0.2,\n",
        "    warm_start=True,  # Keep the learned weights between partial_fit calls\n",
        "    batch_size=200\n",
        ")\n",
        "\n",
        "num_epochs = 3\n",
        "train_loss = []\n",
        "test_loss = []\n",
        "\n",
        "for epoch in range(num_epochs):\n",
        "    mlp.partial_fit(X_train, y_train, classes=np.unique(y))\n",
        "    train_loss.append(log_loss(y_train, mlp.predict_proba(X_train)))\n",
        "    test_loss.append(log_loss(y_test, mlp.predict_proba(X_test)))\n",
        "\n",
        "print(\"Training set score: %f\" % mlp.score(X_train, y_train))\n",
        "print(\"Test set score: %f\" % mlp.score(X_test, y_test))"
      ]
    },
    {
      "cell_type": "markdown",
      "id": "bcff2e04-e032-4fbb-a3cc-aa719b959424",
      "metadata": {
        "id": "bcff2e04-e032-4fbb-a3cc-aa719b959424"
      },
      "source": [
        "## Representation of your neural network"
      ]
    },
    {
      "cell_type": "code",
      "execution_count": 18,
      "id": "86a7cd9e-da59-4064-bcd1-0688358158d5",
      "metadata": {
        "tags": [],
        "id": "86a7cd9e-da59-4064-bcd1-0688358158d5",
        "outputId": "694244e7-fc42-4413-8f90-cfe8f0dcd3a7",
        "colab": {
          "base_uri": "https://localhost:8080/"
        }
      },
      "outputs": [
        {
          "output_type": "stream",
          "name": "stdout",
          "text": [
            "Looking in indexes: https://pypi.org/simple, https://us-python.pkg.dev/colab-wheels/public/simple/\n",
            "Requirement already satisfied: nnv in /usr/local/lib/python3.10/dist-packages (0.0.5)\n"
          ]
        }
      ],
      "source": [
        "!pip install nnv"
      ]
    },
    {
      "cell_type": "code",
      "execution_count": 49,
      "id": "a5d64035-9813-40e1-bcff-547b1285ac0c",
      "metadata": {
        "tags": [],
        "id": "a5d64035-9813-40e1-bcff-547b1285ac0c"
      },
      "outputs": [],
      "source": [
        "from nnv import NNV\n",
        "\n",
        "plt.rcParams[\"figure.figsize\"] = (200,10)\n",
        "\n",
        "layersList = [\n",
        "    {\"title\":\"input\\n\", \"units\": 784, \"color\": \"darkBlue\"},\n",
        "    {\"title\":\"hidden \\n(relu)\", \"units\": 40},\n",
        "    {\"title\":\"output\\n(softmax)\", \"units\": 10,\"color\": \"darkBlue\"},\n",
        "]\n",
        "\n",
        "#NNV(layersList, max_num_nodes_visible=40, node_radius=5, spacing_layer=200, font_size=12).render(save_to_file=\"my_example_2.pdf\")"
      ]
    },
    {
      "cell_type": "markdown",
      "id": "e25289c9-dac8-4a22-a0b1-cebb3da39efe",
      "metadata": {
        "id": "e25289c9-dac8-4a22-a0b1-cebb3da39efe"
      },
      "source": [
        "## Provide a representation of the neurons of your network"
      ]
    },
    {
      "cell_type": "code",
      "execution_count": 21,
      "id": "d276f7df-59e4-4449-914a-99ae7ee362af",
      "metadata": {
        "tags": [],
        "id": "d276f7df-59e4-4449-914a-99ae7ee362af",
        "outputId": "bf86d44a-d1e0-4dbe-9c38-77de0de8cf08",
        "colab": {
          "base_uri": "https://localhost:8080/"
        }
      },
      "outputs": [
        {
          "output_type": "stream",
          "name": "stdout",
          "text": [
            "(40, 784) (40,)\n",
            "(10, 40) (10,)\n"
          ]
        }
      ],
      "source": [
        "print(np.shape(mlp.coefs_[0].T), np.shape(mlp.intercepts_[0].T))\n",
        "print(np.shape(mlp.coefs_[1].T), np.shape(mlp.intercepts_[1].T))"
      ]
    },
    {
      "cell_type": "code",
      "source": [
        "mlp.coefs_[0].min()"
      ],
      "metadata": {
        "colab": {
          "base_uri": "https://localhost:8080/"
        },
        "id": "0yunQQYtOZBo",
        "outputId": "6cabc9a2-c7ba-4e6a-dd8b-d820f232e3c0"
      },
      "id": "0yunQQYtOZBo",
      "execution_count": 24,
      "outputs": [
        {
          "output_type": "execute_result",
          "data": {
            "text/plain": [
              "-1.0110948061139695"
            ]
          },
          "metadata": {},
          "execution_count": 24
        }
      ]
    },
    {
      "cell_type": "code",
      "execution_count": 48,
      "id": "f279b0fb-82c0-4d95-95c5-55a15fd0c659",
      "metadata": {
        "tags": [],
        "id": "f279b0fb-82c0-4d95-95c5-55a15fd0c659"
      },
      "outputs": [],
      "source": [
        "plt.rcParams[\"figure.figsize\"] = (8.0,6.0)\n",
        "\n",
        "#uncomment\n",
        "#fig, axes = plt.subplots(5, 8)\n",
        "\n",
        "\n",
        "# use global min / max to ensure all weights are shown on the same scale\n",
        "vmin, vmax = mlp.coefs_[0].min(), mlp.coefs_[0].max()\n",
        "\n",
        "max_abs = np.max([np.abs(vmin), np.abs(vmax)])\n",
        "\n",
        "for coef, ax in zip(mlp.coefs_[0].T, axes.ravel()):\n",
        "    #---matshow is used to display a matrix as an image\n",
        "    #uncomment\n",
        "    #im = ax.matshow(coef.reshape(28, 28), cmap=plt.cm.plasma, vmin=-max_abs, vmax=max_abs)\n",
        "    ax.set_xticks(())\n",
        "    ax.set_yticks(())\n",
        "\n",
        "    \n",
        "# Add a colorbar to the figure\n",
        "#cbar = fig.colorbar(im, ax=axes.ravel().tolist())\n",
        "\n",
        "plt.show()\n",
        "\n"
      ]
    },
    {
      "cell_type": "code",
      "execution_count": 32,
      "id": "2e3f7385-97e6-48e7-bab6-6d52e6146a25",
      "metadata": {
        "tags": [],
        "id": "2e3f7385-97e6-48e7-bab6-6d52e6146a25",
        "outputId": "7c661abe-a835-49d0-9136-e87c89b89156",
        "colab": {
          "base_uri": "https://localhost:8080/"
        }
      },
      "outputs": [
        {
          "output_type": "stream",
          "name": "stdout",
          "text": [
            "-1.0110948061139695 0.5733018937205047\n"
          ]
        }
      ],
      "source": [
        "print(vmin, vmax)"
      ]
    },
    {
      "cell_type": "code",
      "execution_count": null,
      "id": "de8474fb-dec5-4d10-810c-07c862b249ac",
      "metadata": {
        "tags": [],
        "id": "de8474fb-dec5-4d10-810c-07c862b249ac"
      },
      "outputs": [],
      "source": [
        "#--- checks"
      ]
    },
    {
      "cell_type": "code",
      "execution_count": null,
      "id": "a3486f36-b6b5-4844-9657-cd4b28a34d54",
      "metadata": {
        "tags": [],
        "id": "a3486f36-b6b5-4844-9657-cd4b28a34d54",
        "outputId": "ded889ed-a3e6-4307-c2b5-8cdef6323e9f",
        "colab": {
          "base_uri": "https://localhost:8080/"
        }
      },
      "outputs": [
        {
          "output_type": "execute_result",
          "data": {
            "text/plain": [
              "(784, 40)"
            ]
          },
          "metadata": {},
          "execution_count": 28
        }
      ],
      "source": [
        "#https://scikit-learn.org/stable/modules/generated/sklearn.neural_network.MLPClassifier.html\n",
        "#coefs_: list of shape (n_layers - 1,)\n",
        "#The ith element in the list represents the weight matrix corresponding to layer i.\n",
        "np.shape(mlp.coefs_[0])"
      ]
    },
    {
      "cell_type": "code",
      "execution_count": null,
      "id": "0fe6397b-da94-4cf8-8773-c76f86e80b86",
      "metadata": {
        "tags": [],
        "id": "0fe6397b-da94-4cf8-8773-c76f86e80b86",
        "outputId": "7cc75009-e70b-446a-bf35-c5f46df42bf0",
        "colab": {
          "base_uri": "https://localhost:8080/"
        }
      },
      "outputs": [
        {
          "output_type": "execute_result",
          "data": {
            "text/plain": [
              "40"
            ]
          },
          "metadata": {},
          "execution_count": 29
        }
      ],
      "source": [
        "len(mlp.coefs_[0][783])"
      ]
    },
    {
      "cell_type": "code",
      "execution_count": null,
      "id": "498c768d-2bae-4071-a5a5-fd18deb0b577",
      "metadata": {
        "tags": [],
        "id": "498c768d-2bae-4071-a5a5-fd18deb0b577",
        "outputId": "32301467-a2d4-45a9-e6b8-30dd8f1698fc",
        "colab": {
          "base_uri": "https://localhost:8080/"
        }
      },
      "outputs": [
        {
          "output_type": "execute_result",
          "data": {
            "text/plain": [
              "(40, 10)"
            ]
          },
          "metadata": {},
          "execution_count": 30
        }
      ],
      "source": [
        "np.shape(mlp.coefs_[1])"
      ]
    },
    {
      "cell_type": "code",
      "execution_count": null,
      "id": "a74744da-5063-4a09-97bc-423cfd7d7800",
      "metadata": {
        "tags": [],
        "id": "a74744da-5063-4a09-97bc-423cfd7d7800",
        "outputId": "d8e7695d-fefc-4142-a127-0b47c35dd784",
        "colab": {
          "base_uri": "https://localhost:8080/"
        }
      },
      "outputs": [
        {
          "output_type": "stream",
          "name": "stdout",
          "text": [
            "(40,)\n"
          ]
        },
        {
          "output_type": "execute_result",
          "data": {
            "text/plain": [
              "array([-0.15575706, -0.15400826,  0.06508577,  0.49742375, -0.07005818,\n",
              "       -0.10096713,  0.00309142,  0.05769386, -0.05570244, -0.02218003,\n",
              "       -0.04044906, -0.03663522,  0.12771604,  0.3598094 , -0.10272782,\n",
              "       -0.11523947,  0.02937951, -0.12281815,  0.12459668,  0.25668712,\n",
              "        0.21835264,  0.12890185, -0.03186991, -0.09561   ,  0.22223194,\n",
              "       -0.17703044, -0.09829197, -0.31367624,  0.00655406,  0.1949957 ,\n",
              "        0.30697201,  0.02098709,  0.19564065,  0.14785048, -0.09733604,\n",
              "        0.042845  ,  0.01779155, -0.14027736, -0.10658419,  0.39470569])"
            ]
          },
          "metadata": {},
          "execution_count": 31
        }
      ],
      "source": [
        "#intercepts_: list of shape (n_layers - 1,)\n",
        "#The ith element in the list represents the bias vector corresponding to layer i + 1.\n",
        "print(np.shape(mlp.intercepts_[0]))\n",
        "mlp.intercepts_[0]"
      ]
    },
    {
      "cell_type": "code",
      "execution_count": null,
      "id": "bab5cea5-c47b-43d3-98f9-95362059a83e",
      "metadata": {
        "tags": [],
        "id": "bab5cea5-c47b-43d3-98f9-95362059a83e",
        "outputId": "8a7f849c-6b7e-44e0-ad87-d43c988a10a1",
        "colab": {
          "base_uri": "https://localhost:8080/"
        }
      },
      "outputs": [
        {
          "output_type": "execute_result",
          "data": {
            "text/plain": [
              "(10,)"
            ]
          },
          "metadata": {},
          "execution_count": 32
        }
      ],
      "source": [
        "np.shape(mlp.intercepts_[1])"
      ]
    },
    {
      "cell_type": "markdown",
      "id": "a99afcec-6737-4b1b-8602-8c50b4b3415c",
      "metadata": {
        "id": "a99afcec-6737-4b1b-8602-8c50b4b3415c"
      },
      "source": [
        "## Let's make predictions\n"
      ]
    },
    {
      "cell_type": "code",
      "execution_count": 34,
      "id": "f414ee20-bbc7-41ff-b1aa-bb8c5414f0a5",
      "metadata": {
        "tags": [],
        "id": "f414ee20-bbc7-41ff-b1aa-bb8c5414f0a5"
      },
      "outputs": [],
      "source": [
        "# uncomment the following\n",
        "\n",
        "#tmp_image, tmp_imX = plot_rand_digit(X,y)"
      ]
    },
    {
      "cell_type": "code",
      "execution_count": 35,
      "id": "30ae860c-414f-44fd-954a-0f7bc3b31196",
      "metadata": {
        "tags": [],
        "id": "30ae860c-414f-44fd-954a-0f7bc3b31196"
      },
      "outputs": [],
      "source": [
        "#mlp.predict(tmp_imX.reshape(-1,1).T)\n"
      ]
    },
    {
      "cell_type": "code",
      "execution_count": 36,
      "id": "948ed8d3-d790-43c6-8b32-757a05def50e",
      "metadata": {
        "tags": [],
        "id": "948ed8d3-d790-43c6-8b32-757a05def50e"
      },
      "outputs": [],
      "source": [
        "###################\n",
        "# index 7560 ---> 2 \n",
        "# index 7561 ---> 9\n",
        "###################\n",
        "\n",
        "#tmp_image, tmp_imX = plot_digit(7561,X_test,y_test)"
      ]
    },
    {
      "cell_type": "code",
      "execution_count": 37,
      "id": "512bfb84-5d2f-4ac4-aa86-a9a5f248db7e",
      "metadata": {
        "tags": [],
        "id": "512bfb84-5d2f-4ac4-aa86-a9a5f248db7e"
      },
      "outputs": [],
      "source": [
        "#mlp.predict(tmp_imX.reshape(-1,1).T)"
      ]
    },
    {
      "cell_type": "code",
      "execution_count": 38,
      "id": "8c5d8f30-0b61-4064-9a41-7dbbc2f98d26",
      "metadata": {
        "tags": [],
        "id": "8c5d8f30-0b61-4064-9a41-7dbbc2f98d26"
      },
      "outputs": [],
      "source": [
        "# Rotate the array by 90 degrees\n",
        "#rotated_image = np.rot90(tmp_image)\n",
        "#rotated_image = np.rot90(rotated_image)"
      ]
    },
    {
      "cell_type": "code",
      "execution_count": 39,
      "id": "e0b2c6a7-4f71-4f76-b8b1-35bb3af3d3d2",
      "metadata": {
        "tags": [],
        "id": "e0b2c6a7-4f71-4f76-b8b1-35bb3af3d3d2"
      },
      "outputs": [],
      "source": [
        "#plot_image(rotated_image)"
      ]
    },
    {
      "cell_type": "code",
      "execution_count": 40,
      "id": "3b88e512-fd84-4a76-aad0-0ba3f38e54af",
      "metadata": {
        "tags": [],
        "id": "3b88e512-fd84-4a76-aad0-0ba3f38e54af"
      },
      "outputs": [],
      "source": [
        "#tmp_X = image_2_X(rotated_image)"
      ]
    },
    {
      "cell_type": "code",
      "execution_count": 41,
      "id": "7dd4a8a7-c543-4e23-8632-114365f52017",
      "metadata": {
        "tags": [],
        "id": "7dd4a8a7-c543-4e23-8632-114365f52017"
      },
      "outputs": [],
      "source": [
        "#mlp.predict(tmp_X.reshape(-1,1).T)"
      ]
    },
    {
      "cell_type": "markdown",
      "id": "65680eb9-2e1b-4726-acc5-ebffb42c9771",
      "metadata": {
        "id": "65680eb9-2e1b-4726-acc5-ebffb42c9771"
      },
      "source": [
        "## Let's represent in a dimensionally reduced space"
      ]
    },
    {
      "cell_type": "code",
      "execution_count": null,
      "id": "6da2df45-c98b-4e4e-8e9b-5b39a2e752f3",
      "metadata": {
        "tags": [],
        "id": "6da2df45-c98b-4e4e-8e9b-5b39a2e752f3",
        "outputId": "a11c1e4f-45a8-4da6-8778-7448cbe71ea8",
        "colab": {
          "base_uri": "https://localhost:8080/"
        }
      },
      "outputs": [
        {
          "output_type": "stream",
          "name": "stdout",
          "text": [
            "Looking in indexes: https://pypi.org/simple, https://us-python.pkg.dev/colab-wheels/public/simple/\n",
            "Requirement already satisfied: plotly in /usr/local/lib/python3.10/dist-packages (5.13.1)\n",
            "Requirement already satisfied: tenacity>=6.2.0 in /usr/local/lib/python3.10/dist-packages (from plotly) (8.2.2)\n"
          ]
        }
      ],
      "source": [
        "!pip install plotly"
      ]
    },
    {
      "cell_type": "code",
      "execution_count": null,
      "id": "75038339-a9a8-49a4-838f-3c70c0659f38",
      "metadata": {
        "id": "75038339-a9a8-49a4-838f-3c70c0659f38"
      },
      "outputs": [],
      "source": [
        "#from sklearn.manifold import TSNE\n",
        "from sklearn.decomposition import PCA\n",
        "#dred = TSNE()\n",
        "dred = PCA(n_components = 3)\n"
      ]
    },
    {
      "cell_type": "code",
      "execution_count": null,
      "id": "1082ba4d-bf30-48c5-b562-b372a76266ea",
      "metadata": {
        "tags": [],
        "id": "1082ba4d-bf30-48c5-b562-b372a76266ea"
      },
      "outputs": [],
      "source": [
        "import numpy as np\n",
        "import pandas as pd\n",
        "from sklearn.decomposition import PCA\n",
        "import plotly.express as px\n",
        "import plotly.io as pio\n",
        "\n",
        "# Save the plot as an HTML file\n",
        "\n",
        "def plot_3d_pca(X, y, target_names=None):\n",
        "    # Apply PCA with 3 components\n",
        "    pca = PCA(n_components=3)\n",
        "    X_pca = pca.fit_transform(X)\n",
        "\n",
        "    # Combine the PCA results and target labels\n",
        "    data = np.column_stack((X_pca, y))\n",
        "\n",
        "    # Create a DataFrame with column names\n",
        "    columns = ['PC1', 'PC2', 'PC3', 'label']\n",
        "    df = pd.DataFrame(data, columns=columns)\n",
        "    df['label'] = df['label'].astype(int)\n",
        "    \n",
        "    if target_names is not None:\n",
        "        df['label_name'] = df['label'].apply(lambda x: target_names[x])\n",
        "        color_col = 'label_name'\n",
        "    else:\n",
        "        color_col = 'label'\n",
        "\n",
        "    # Create the interactive 3D plot\n",
        "    fig = px.scatter_3d(df, x='PC1', y='PC2', z='PC3', color=color_col, symbol=color_col, text=color_col,\n",
        "                        labels={'PC1': 'Principal Component 1', 'PC2': 'Principal Component 2', 'PC3': 'Principal Component 3'})\n",
        "\n",
        "    # Customize the plot appearance\n",
        "    fig.update_layout(\n",
        "        margin=dict(l=0, r=0, t=0, b=0),\n",
        "        scene=dict(\n",
        "            xaxis_title='Principal Component 1',\n",
        "            yaxis_title='Principal Component 2',\n",
        "            zaxis_title='Principal Component 3',\n",
        "        ),\n",
        "    )\n",
        "\n",
        "    # Show the plot\n",
        "    #fig.show()\n",
        "    #pio.write_html(fig, file=\"./3d_pca_plot.html\", auto_open=True)\n",
        "\n",
        "    \n",
        "    return fig\n",
        "\n",
        "    \n",
        "    \n",
        "    "
      ]
    },
    {
      "cell_type": "code",
      "execution_count": 43,
      "id": "ee84e325-faad-40d9-89cd-ea33c450529a",
      "metadata": {
        "tags": [],
        "id": "ee84e325-faad-40d9-89cd-ea33c450529a"
      },
      "outputs": [],
      "source": [
        "#uncomment the following\n",
        "#fig = plot_3d_pca(X_test, y_test, ['0','1','2','3','4','5','6','7','8','9']) \n",
        "\n",
        "#fig.show()"
      ]
    },
    {
      "cell_type": "code",
      "execution_count": null,
      "id": "2533e86c-6f33-4e55-9c6a-c457e273620a",
      "metadata": {
        "id": "2533e86c-6f33-4e55-9c6a-c457e273620a",
        "colab": {
          "base_uri": "https://localhost:8080/"
        },
        "outputId": "dc050d5e-160f-4926-df8c-81285d4989f5"
      },
      "outputs": [
        {
          "output_type": "stream",
          "name": "stdout",
          "text": [
            "/content\n"
          ]
        }
      ],
      "source": [
        "!pwd"
      ]
    },
    {
      "cell_type": "code",
      "source": [],
      "metadata": {
        "id": "WuST6jtMp4gl"
      },
      "id": "WuST6jtMp4gl",
      "execution_count": null,
      "outputs": []
    }
  ],
  "metadata": {
    "kernelspec": {
      "display_name": "Python 3",
      "name": "python3"
    },
    "language_info": {
      "codemirror_mode": {
        "name": "ipython",
        "version": 3
      },
      "file_extension": ".py",
      "mimetype": "text/x-python",
      "name": "python",
      "nbconvert_exporter": "python",
      "pygments_lexer": "ipython3",
      "version": "3.11.3"
    },
    "colab": {
      "provenance": [],
      "gpuType": "T4"
    },
    "accelerator": "GPU"
  },
  "nbformat": 4,
  "nbformat_minor": 5
}